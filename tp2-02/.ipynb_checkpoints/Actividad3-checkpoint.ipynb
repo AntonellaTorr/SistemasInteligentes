{
 "cells": [
  {
   "cell_type": "code",
   "execution_count": 7,
   "id": "dcd22b59-a2b8-4e4c-8e38-1c80a7d49367",
   "metadata": {},
   "outputs": [],
   "source": [
    "from random import randrange"
   ]
  },
  {
   "cell_type": "code",
   "execution_count": 8,
   "id": "1f397020-70e5-491d-bd2c-80d967eaa8cd",
   "metadata": {},
   "outputs": [
    {
     "name": "stdout",
     "output_type": "stream",
     "text": [
      "n:  10\n",
      "poblacion_total:  [7, 11, 1, 9, 10, 3, 5, 13, 9, 12]\n",
      "min_dif:  6\n"
     ]
    }
   ],
   "source": [
    "min_dif = 6\n",
    "poblacion_total = [7, 11, 1, 9, 10, 3, 5, 13, 9, 12]\n",
    "n = len(poblacion_total)\n",
    "print('n: ',n)\n",
    "print('poblacion_total: ',poblacion_total)\n",
    "print('min_dif: ',min_dif)"
   ]
  },
  {
   "cell_type": "code",
   "execution_count": 12,
   "id": "c373b067-25c7-4d2c-a7ba-ae093a1cf028",
   "metadata": {},
   "outputs": [],
   "source": [
    "#funcion objetivo\n",
    "import math\n",
    "\n",
    "#este fit es para problema de maximizacion\n",
    "def fit(a,b):    \n",
    "    res_a = 0\n",
    "    for elem in a:\n",
    "        res_a += elem\n",
    "    res_a = res_a**2\n",
    "\n",
    "    res_b=1\n",
    "    for elem in b:\n",
    "        res_b = res_b * elem\n",
    "\n",
    "    return abs(res_a - res_b)\n",
    "#fit([5, 9, 9, 12, 13],[1, 3, 7, 10, 11])\n",
    "#fit([5, 9, 9, 3, 13],[1, 12, 7, 10, 11])"
   ]
  },
  {
   "cell_type": "code",
   "execution_count": 41,
   "id": "e0dd0a80-5644-4d55-8d67-92ae830ab6f7",
   "metadata": {},
   "outputs": [],
   "source": [
    "# funcion para generar nueva poblacion\n",
    "\n",
    "def generar_nueva_poblacion(individuos_fits):\n",
    "    #definir a conveniencia\n",
    "    individuos_clasificados = 270\n",
    "    individuos_para_recombinacion = 250\n",
    "    \n",
    "    #SELECCION\n",
    "    #ordenamos en un ranking\n",
    "    individuos_fits.sort()\n",
    "    aux = individuos_fits.copy()\n",
    "    individuos_fits = individuos_fits[0:individuos_clasificados]\n",
    "    #quitamos elementos al azar de la poblacion. Los que queden se recombinaran\n",
    "    while(len(individuos_fits)-individuos_para_recombinacion>0):\n",
    "        posicion_a_quitar = randrange(len(individuos_fits))\n",
    "        individuos_fits.pop(posicion_a_quitar)\n",
    "\n",
    "    #RECOMBINACION\n",
    "    #resultado es al list de nuevos hijos, y aux la list de padres que no moriran.\n",
    "    resultado = []\n",
    "    for i in range(int(individuos_para_recombinacion/2)):\n",
    "        hijo = []\n",
    "        hijo2=[]\n",
    "        for j in range(individuo_size):\n",
    "            if j % 2 == 0:\n",
    "                indice_padre = i\n",
    "                indice_padre2 = i+1\n",
    "            else:\n",
    "                indice_padre = i+1\n",
    "                indice_padre2 = i\n",
    "            hijo.append(individuos_fits[indice_padre][1][j])\n",
    "            hijo2.append(individuos_fits[indice_padre2][1][j])\n",
    "        resultado.append(hijo)\n",
    "        resultado.append(hijo2)\n",
    "    #print('hijos  ',resultado)\n",
    "    aux = aux[0:-individuos_para_recombinacion]\n",
    "\n",
    "    \n",
    "    #MUTACION\n",
    "    #los hijos se mutan si o si\n",
    "    #for pos_hijo in range(len(resultado)):\n",
    "     #   pos_a_cambiar = randrange(individuo_size) \n",
    "     #   resultado[pos_hijo][pos_a_cambiar] = poblacion_total[randrange(n)]\n",
    "    # los padres de mutan probabilisticamente\n",
    "    #for pos_individuo in range(len(aux)):\n",
    "    #    if randrange(5) == 4:\n",
    "     #       pos_a_cambiar = randrange(individuo_size) \n",
    "     #       aux[pos_individuo][pos_a_cambiar] = poblacion_total[randrange(n)]\n",
    "    \n",
    "    #se reemplaza a los peores individuos actuales por los hijos\n",
    "    for elem in aux:\n",
    "        resultado.append(elem[1])\n",
    "\n",
    "    return resultado\n",
    "\n",
    "#generar_nueva_poblacion(\n",
    "  #   [(5, [9, 3, 3, 1, 9]), (7, [9, 8, 1, 7, 2]), (6, [3, 3, 1, 2, 5]), (3, [5, 3, 2, 8, 5]), (4, [9, 3, 2, 3, 7]), (4, [5, 5, 6, 5, 3]), (7, [3, 5, 8, 3, 8]), (3, [5, 2, 8, 2, 6]), (4, [1, 1, 3, 3, 8]), (4, [8, 2, 6, 5, 3])]\n",
    "#)"
   ]
  },
  {
   "cell_type": "code",
   "execution_count": 42,
   "id": "49ef2034-b862-43ca-97c2-38339781aa2c",
   "metadata": {},
   "outputs": [
    {
     "data": {
      "text/plain": [
       "([5, 3, 10, 12, 9], [9, 7, 11, 1, 13])"
      ]
     },
     "execution_count": 42,
     "metadata": {},
     "output_type": "execute_result"
    }
   ],
   "source": [
    "#genera una isntancia random del problem, siendo esta una lista que tiene la listas a y b de tamanio n/2 y formada\n",
    "#por elementos del dominio\n",
    "def generar_instancia():\n",
    "    a = []\n",
    "    b = []\n",
    "    numeros_por_asignar = poblacion_total.copy()\n",
    "    for i in range(n//2):\n",
    "        posicion_a_asignar = randrange(len(numeros_por_asignar))\n",
    "        a.append(numeros_por_asignar[posicion_a_asignar])\n",
    "        numeros_por_asignar.pop(posicion_a_asignar)\n",
    "    for i in range(n//2):\n",
    "        posicion_a_asignar = randrange(len(numeros_por_asignar))\n",
    "        b.append(numeros_por_asignar[posicion_a_asignar])\n",
    "        numeros_por_asignar.pop(posicion_a_asignar)\n",
    "    return (a,b)\n",
    "generar_instancia()"
   ]
  },
  {
   "cell_type": "code",
   "execution_count": 69,
   "id": "7c2b6cf4-bb96-4222-b4c8-ede118b145b8",
   "metadata": {},
   "outputs": [
    {
     "name": "stdout",
     "output_type": "stream",
     "text": [
      "[7, 11, 1, 9, 10, 3, 5, 13, 9, 12]\n",
      "individuos y sus fits:  [(434, [13, 12, 3, 11, 10], [5, 9, 9, 1, 7]), (1236, [9, 11, 10, 9, 12], [1, 13, 7, 3, 5]), (2012, [5, 10, 7, 12, 9], [1, 13, 9, 3, 11]), (2012, [12, 5, 7, 10, 9], [3, 11, 1, 9, 13]), (2924, [13, 7, 10, 11, 3], [1, 9, 5, 9, 12]), (3548, [9, 7, 9, 10, 5], [11, 12, 1, 13, 3]), (3696, [11, 9, 10, 9, 3], [1, 12, 5, 7, 13]), (4754, [10, 9, 3, 12, 7], [13, 9, 11, 1, 5]), (6296, [10, 12, 1, 11, 13], [9, 3, 9, 7, 5]), (7334, [13, 1, 11, 9, 12], [3, 10, 9, 7, 5]), (10214, [12, 13, 1, 11, 7], [9, 10, 3, 9, 5]), (10436, [1, 11, 10, 12, 9], [9, 5, 7, 3, 13]), (26351, [5, 13, 9, 1, 9], [3, 12, 11, 7, 10]), (33524, [1, 10, 7, 12, 5], [9, 9, 13, 11, 3]), (34415, [7, 5, 1, 9, 13], [3, 11, 10, 12, 9]), (40284, [1, 13, 10, 9, 3], [12, 5, 11, 9, 7]), (41031, [1, 5, 11, 9, 7], [3, 12, 9, 13, 10]), (53511, [11, 9, 3, 9, 1], [7, 5, 12, 13, 10]), (76320, [9, 7, 1, 10, 3], [12, 11, 5, 13, 9]), (89190, [5, 9, 12, 3, 1], [7, 10, 11, 13, 9])] len:  20\n"
     ]
    },
    {
     "ename": "NameError",
     "evalue": "name 'individuo_size' is not defined",
     "output_type": "error",
     "traceback": [
      "\u001b[1;31m---------------------------------------------------------------------------\u001b[0m",
      "\u001b[1;31mNameError\u001b[0m                                 Traceback (most recent call last)",
      "Cell \u001b[1;32mIn[69], line 39\u001b[0m\n\u001b[0;32m     37\u001b[0m         resultado \u001b[38;5;241m=\u001b[39m individuos_fits[\u001b[38;5;241m0\u001b[39m]\n\u001b[0;32m     38\u001b[0m         \u001b[38;5;28;01mbreak\u001b[39;00m\n\u001b[1;32m---> 39\u001b[0m     poblacion_problema \u001b[38;5;241m=\u001b[39m \u001b[43mgenerar_nueva_poblacion\u001b[49m\u001b[43m(\u001b[49m\u001b[43mindividuos_fits\u001b[49m\u001b[43m)\u001b[49m\n\u001b[0;32m     40\u001b[0m \u001b[38;5;28mprint\u001b[39m()\n\u001b[0;32m     41\u001b[0m \u001b[38;5;28mprint\u001b[39m(\u001b[38;5;124m'\u001b[39m\u001b[38;5;124mRESULTADO:\u001b[39m\u001b[38;5;124m'\u001b[39m,resultado,max_itr)\n",
      "Cell \u001b[1;32mIn[41], line 24\u001b[0m, in \u001b[0;36mgenerar_nueva_poblacion\u001b[1;34m(individuos_fits)\u001b[0m\n\u001b[0;32m     22\u001b[0m hijo \u001b[38;5;241m=\u001b[39m []\n\u001b[0;32m     23\u001b[0m hijo2\u001b[38;5;241m=\u001b[39m[]\n\u001b[1;32m---> 24\u001b[0m \u001b[38;5;28;01mfor\u001b[39;00m j \u001b[38;5;129;01min\u001b[39;00m \u001b[38;5;28mrange\u001b[39m(\u001b[43mindividuo_size\u001b[49m):\n\u001b[0;32m     25\u001b[0m     \u001b[38;5;28;01mif\u001b[39;00m j \u001b[38;5;241m%\u001b[39m \u001b[38;5;241m2\u001b[39m \u001b[38;5;241m==\u001b[39m \u001b[38;5;241m0\u001b[39m:\n\u001b[0;32m     26\u001b[0m         indice_padre \u001b[38;5;241m=\u001b[39m i\n",
      "\u001b[1;31mNameError\u001b[0m: name 'individuo_size' is not defined"
     ]
    }
   ],
   "source": [
    "#N-MUESTREO DE ALGORITMO GENETICO\n",
    "\n",
    "n_muestras = 1\n",
    "muestras =[]\n",
    "for muestra in range(n_muestras):\n",
    "    # poblacion inicial\n",
    "    poblacion_problema_size = 20\n",
    "    listas_size = n/2\n",
    "    poblacion_problema = [\n",
    "        generar_instancia() for i in range(poblacion_problema_size)\n",
    "    ]\n",
    "\n",
    "    #otros parametros\n",
    "    max_itr = 10\n",
    "    max_itr_inicial = max_itr\n",
    "\n",
    "    \n",
    "    #print('poblacion_problema_size: ',poblacion_problema_size)\n",
    "    #print('poblacion_problema inicial: ',poblacion_problema[:30])\n",
    "    #print()\n",
    "    print(poblacion_total)\n",
    "    #se ejecuta hasta no cumplir criterio de optimizacion alcanzado\n",
    "    while(max_itr>0):\n",
    "        max_itr -= 1\n",
    "        #se calcula cada fit\n",
    "        individuos_fits = []\n",
    "        for individuo in poblacion_problema:\n",
    "            individuos_fits.append((fit(individuo[0],individuo[1]),individuo[0],individuo[1]))\n",
    "        individuos_fits.sort()\n",
    "\n",
    "        if max_itr+1 == max_itr_inicial:\n",
    "            print('individuos y sus fits: ',individuos_fits[:30],'len: ',len(individuos_fits))\n",
    "        # se evalua si se alcanzo el critero\n",
    "        if(individuos_fits[0][0] == 0 or max_itr<=0):\n",
    "            print('individuos y sus fits: ',individuos_fits[:30],'len: ',len(individuos_fits))\n",
    "            print('itr restantes: ',max_itr)\n",
    "            resultado = individuos_fits[0]\n",
    "            break\n",
    "        poblacion_problema = generar_nueva_poblacion(individuos_fits)\n",
    "    print()\n",
    "    print('RESULTADO:',resultado,max_itr)\n",
    "    muestras.append(resultado)"
   ]
  },
  {
   "cell_type": "code",
   "execution_count": 411,
   "id": "26f1c153-25ab-4875-b5f4-7fb955b2e6f5",
   "metadata": {},
   "outputs": [
    {
     "name": "stdout",
     "output_type": "stream",
     "text": [
      "ratio de veces en que se gano el juego:  0.897\n",
      "ratio de veces en que se perdio el juego:  0.103\n"
     ]
    }
   ],
   "source": [
    "#menor a cero significa que se llego al valor correcto, y el numero menor indica que tna pocos billetes se usan.\n",
    "#a menor es a 0, menor cantidad de billetes se usan\n",
    "ganado = 0\n",
    "perdido = 0\n",
    "for muestra in muestras:\n",
    "    #por defecto, en la funcion fit, se establecio que 40 es el costo dado cuando se gana el juego.\n",
    "    if muestra[0] == 40:\n",
    "        ganado += 1\n",
    "    else:\n",
    "        perdido += 1    \n",
    "        \n",
    "\n",
    "print('ratio de veces en que se gano el juego: ',ganado/n_muestras)\n",
    "print('ratio de veces en que se perdio el juego: ',perdido/n_muestras)"
   ]
  }
 ],
 "metadata": {
  "kernelspec": {
   "display_name": "Python 3 (ipykernel)",
   "language": "python",
   "name": "python3"
  },
  "language_info": {
   "codemirror_mode": {
    "name": "ipython",
    "version": 3
   },
   "file_extension": ".py",
   "mimetype": "text/x-python",
   "name": "python",
   "nbconvert_exporter": "python",
   "pygments_lexer": "ipython3",
   "version": "3.10.13"
  }
 },
 "nbformat": 4,
 "nbformat_minor": 5
}
