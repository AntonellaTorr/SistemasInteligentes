{
 "cells": [
  {
   "cell_type": "code",
   "execution_count": 1,
   "id": "dcd22b59-a2b8-4e4c-8e38-1c80a7d49367",
   "metadata": {},
   "outputs": [],
   "source": [
    "from random import randrange"
   ]
  },
  {
   "cell_type": "markdown",
   "id": "447608ce-93bc-4e3b-b3df-2fa6e0065b1b",
   "metadata": {},
   "source": [
    " Resolver los siguientes problemas como algoritmos genéticos.\n",
    "a Dado un conjunto de n enteros, encontrar el subconjunto tal que la suma sea igual a un entero S\n",
    "dado."
   ]
  },
  {
   "cell_type": "code",
   "execution_count": 2,
   "id": "1f397020-70e5-491d-bd2c-80d967eaa8cd",
   "metadata": {},
   "outputs": [
    {
     "name": "stdout",
     "output_type": "stream",
     "text": [
      "n:  50\n",
      "poblacion:  [11, 41, 20, 15, 35, 45, 26, 23, 34, 22, 39, 22, 46, 19, 46, 26, 44, 46, 23, 25, 48, 37, 45, 43, 31, 14, 13, 39, 12, 13, 48, 40, 37, 18, 40, 48, 35, 10, 34, 40, 45, 42, 25, 26, 47, 13, 29, 36, 31, 23]\n",
      "s:  200\n"
     ]
    }
   ],
   "source": [
    "n = 50\n",
    "s = 200\n",
    "poblacion_total = [randrange(10,50) for i in range(n)]\n",
    "print('n: ',n)\n",
    "print('poblacion: ',poblacion_total)\n",
    "print('s: ',s)"
   ]
  },
  {
   "cell_type": "code",
   "execution_count": 3,
   "id": "c373b067-25c7-4d2c-a7ba-ae093a1cf028",
   "metadata": {},
   "outputs": [
    {
     "data": {
      "text/plain": [
       "190"
      ]
     },
     "execution_count": 3,
     "metadata": {},
     "output_type": "execute_result"
    }
   ],
   "source": [
    "#funcion objetivo\n",
    "import math\n",
    "\n",
    "def fit(lista_enteros):\n",
    "    suma = 0\n",
    "    for entero in lista_enteros:\n",
    "        suma += entero\n",
    "    return abs(s-suma)\n",
    "fit([1,2,3,4])"
   ]
  },
  {
   "cell_type": "code",
   "execution_count": 10,
   "id": "e0dd0a80-5644-4d55-8d67-92ae830ab6f7",
   "metadata": {},
   "outputs": [],
   "source": [
    "# funcion para generar nueva poblacion\n",
    "\n",
    "def generar_nueva_poblacion(individuos_fits):\n",
    "    #definir a conveniencia\n",
    "    individuos_clasificados = 20\n",
    "    individuos_para_recombinacion = 10\n",
    "    \n",
    "    #SELECCION\n",
    "    #ordenamos en un ranking\n",
    "    individuos_fits.sort()\n",
    "    aux = individuos_fits.copy()\n",
    "    individuos_fits = individuos_fits[0:individuos_clasificados]\n",
    "    #quitamos elementos al azar de la poblacion. Los que queden se recombinaran\n",
    "    while(len(individuos_fits)-individuos_para_recombinacion>0):\n",
    "        posicion_a_quitar = randrange(len(individuos_fits))\n",
    "        individuos_fits.pop(posicion_a_quitar)\n",
    "\n",
    "    #RECOMBINACION\n",
    "    #resultado es al list de nuevos hijos, y aux la list de padres que no moriran.\n",
    "    resultado = []\n",
    "    for i in range(int(individuos_para_recombinacion/2)):\n",
    "        resultado.append(individuos_fits[i][1][:individuo_size//2]+individuos_fits[i+1][1][individuo_size//2:])\n",
    "    aux = aux[0:-individuos_para_recombinacion//2]\n",
    "\n",
    "    \n",
    "    #MUTACION\n",
    "    #los hijos se mutan si o si\n",
    "    #for pos_hijo in range(len(resultado)):\n",
    "     #   pos_a_cambiar = randrange(individuo_size) \n",
    "     #   resultado[pos_hijo][pos_a_cambiar] = poblacion_total[randrange(n)]\n",
    "    # los padres de mutan probabilisticamente\n",
    "    #for pos_individuo in range(len(aux)):\n",
    "    #    if randrange(5) == 4:\n",
    "     #       pos_a_cambiar = randrange(individuo_size) \n",
    "     #       aux[pos_individuo][pos_a_cambiar] = poblacion_total[randrange(n)]\n",
    "    \n",
    "    #se reemplaza a los peores individuos actuales por los hijos\n",
    "    for elem in aux:\n",
    "        resultado.append(elem[1])\n",
    "\n",
    "    return resultado\n",
    "\n",
    "#generar_nueva_poblacion(\n",
    "  #   [(5, [9, 3, 3, 1, 9]), (7, [9, 8, 1, 7, 2]), (6, [3, 3, 1, 2, 5]), (3, [5, 3, 2, 8, 5]), (4, [9, 3, 2, 3, 7]), (4, [5, 5, 6, 5, 3]), (7, [3, 5, 8, 3, 8]), (3, [5, 2, 8, 2, 6]), (4, [1, 1, 3, 3, 8]), (4, [8, 2, 6, 5, 3])]\n",
    "#)"
   ]
  },
  {
   "cell_type": "code",
   "execution_count": 61,
   "id": "7c2b6cf4-bb96-4222-b4c8-ede118b145b8",
   "metadata": {},
   "outputs": [
    {
     "name": "stdout",
     "output_type": "stream",
     "text": [
      "individuos y sus fits:  [(8, [12, 38, 44, 31, 47, 20]), (9, [36, 30, 32, 24, 31, 38]), (10, [20, 34, 40, 20, 32, 44]), (11, [36, 12, 34, 24, 37, 46]), (11, [38, 34, 36, 34, 31, 16]), (12, [37, 16, 44, 40, 37, 14]), (16, [44, 38, 47, 24, 36, 27]), (19, [41, 14, 32, 34, 16, 44]), (21, [14, 24, 38, 46, 20, 37]), (22, [24, 40, 24, 19, 34, 37])] len:  40\n",
      "individuos y sus fits:  [(1, [38, 34, 36, 24, 31, 38]), (1, [38, 34, 36, 40, 37, 14]), (1, [38, 34, 36, 40, 37, 14]), (1, [38, 34, 36, 40, 37, 14]), (1, [38, 34, 36, 40, 37, 14]), (1, [38, 34, 36, 40, 37, 14]), (1, [38, 34, 36, 40, 37, 14]), (1, [38, 34, 36, 40, 37, 14]), (1, [38, 34, 36, 40, 37, 14]), (1, [38, 34, 36, 40, 37, 14])] len:  40\n",
      "(1, [38, 34, 36, 24, 31, 38])\n"
     ]
    }
   ],
   "source": [
    "#N-MUESTREO DE ALGORITMO GENETICO\n",
    "\n",
    "n_muestras = 1\n",
    "muestras =[]\n",
    "for muestra in range(n_muestras):\n",
    "    # poblacion inicial\n",
    "    poblacion_problema_size = 40\n",
    "    individuo_size = 6\n",
    "    poblacion_problema = [[poblacion_total[randrange(n)] for i in range(individuo_size)] for i in range(poblacion_problema_size)]\n",
    "\n",
    "    #otros parametros\n",
    "    max_itr = 1000\n",
    "    max_itr_inicial = max_itr\n",
    "    \n",
    "    #print('poblacion_problema_size: ',poblacion_problema_size)\n",
    "    #print('poblacion_problema inicial: ',poblacion_problema)\n",
    "    #print()\n",
    "    #se ejecuta hasta no cumplir criterio de optimizacion alcanzado\n",
    "    while(max_itr>0):\n",
    "        max_itr -= 1\n",
    "        #se calcula cada fit\n",
    "        individuos_fits = []\n",
    "        for individuo in poblacion_problema:\n",
    "            individuos_fits.append((fit(individuo),individuo))\n",
    "        individuos_fits.sort()\n",
    "\n",
    "        if max_itr+1 == max_itr_inicial:\n",
    "            print('individuos y sus fits: ',individuos_fits[:10],'len: ',len(individuos_fits))\n",
    "        # se evalua si se alcanzo el critero\n",
    "        if(individuos_fits[0][0] == 0 or max_itr<=0):\n",
    "            print('individuos y sus fits: ',individuos_fits[:10],'len: ',len(individuos_fits))\n",
    "            #print('itr restantes: ',max_itr)\n",
    "            resultado = individuos_fits[0]\n",
    "            break\n",
    "        poblacion_problema = generar_nueva_poblacion(individuos_fits)\n",
    "    print(resultado)\n",
    "    muestras.append(resultado)"
   ]
  },
  {
   "cell_type": "code",
   "execution_count": 6,
   "id": "26f1c153-25ab-4875-b5f4-7fb955b2e6f5",
   "metadata": {},
   "outputs": [
    {
     "name": "stdout",
     "output_type": "stream",
     "text": [
      "ratio de veces que la diferencia fue 0:  0.578\n",
      "ratio de veces que la diferencia fue 1:  0.353\n",
      "ratio de veces que la diferencia fue 2: 0.051\n"
     ]
    }
   ],
   "source": [
    "vecesCero = 0\n",
    "vecesUno = 0\n",
    "vecesDos = 0\n",
    "for muestra in muestras:\n",
    "    if muestra[0] == 0:\n",
    "        vecesCero += 1\n",
    "    elif muestra[0] == 1:\n",
    "        vecesUno += 1    \n",
    "    elif muestra[0] == 2:\n",
    "        vecesDos +=1\n",
    "        \n",
    "\n",
    "print('ratio de veces que la diferencia fue 0: ',vecesCero/n_muestras)\n",
    "print('ratio de veces que la diferencia fue 1: ',vecesUno/n_muestras)\n",
    "print('ratio de veces que la diferencia fue 2:',vecesDos/n_muestras)"
   ]
  }
 ],
 "metadata": {
  "kernelspec": {
   "display_name": "Python 3 (ipykernel)",
   "language": "python",
   "name": "python3"
  },
  "language_info": {
   "codemirror_mode": {
    "name": "ipython",
    "version": 3
   },
   "file_extension": ".py",
   "mimetype": "text/x-python",
   "name": "python",
   "nbconvert_exporter": "python",
   "pygments_lexer": "ipython3",
   "version": "3.10.13"
  }
 },
 "nbformat": 4,
 "nbformat_minor": 5
}
